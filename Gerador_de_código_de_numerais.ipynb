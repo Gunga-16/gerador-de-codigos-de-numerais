{
  "nbformat": 4,
  "nbformat_minor": 0,
  "metadata": {
    "colab": {
      "provenance": [],
      "include_colab_link": true
    },
    "kernelspec": {
      "name": "python3",
      "display_name": "Python 3"
    },
    "language_info": {
      "name": "python"
    }
  },
  "cells": [
    {
      "cell_type": "markdown",
      "metadata": {
        "id": "view-in-github",
        "colab_type": "text"
      },
      "source": [
        "<a href=\"https://colab.research.google.com/github/Gunga-16/gerador-de-codigos-de-numerais/blob/main/Gerador_de_c%C3%B3digo_de_numerais.ipynb\" target=\"_parent\"><img src=\"https://colab.research.google.com/assets/colab-badge.svg\" alt=\"Open In Colab\"/></a>"
      ]
    },
    {
      "cell_type": "code",
      "execution_count": null,
      "metadata": {
        "id": "6dlg6_KlClHm"
      },
      "outputs": [],
      "source": [
        "# Importando a função para gerar números aleatórios\n",
        "from random import randrange"
      ]
    },
    {
      "cell_type": "code",
      "source": [
        "# Variáveis para cada digito do número\n",
        "\n",
        "digito_1 = str(randrange(0, 10))\n",
        "digito_2 = str(randrange(0, 10))\n",
        "digito_3 = str(randrange(0, 10))\n",
        "digito_4 = str(randrange(0, 10))\n",
        "digito_5 = str(randrange(0, 10))\n",
        "\n",
        "# Função para gerar o código aleatório\n",
        "\n",
        "def gerador_de_codigo():\n",
        "  codigo = digito_1 + digito_2 + digito_3 + digito_4 + digito_5\n",
        "  print(f'Código: {codigo}')\n",
        "\n",
        "gerador_de_codigo()"
      ],
      "metadata": {
        "colab": {
          "base_uri": "https://localhost:8080/"
        },
        "id": "e33DHO_bDfiN",
        "outputId": "804452af-46bc-44e4-d519-2c8ea28f070e"
      },
      "execution_count": null,
      "outputs": [
        {
          "output_type": "stream",
          "name": "stdout",
          "text": [
            "Código: 14411\n"
          ]
        }
      ]
    }
  ]
}